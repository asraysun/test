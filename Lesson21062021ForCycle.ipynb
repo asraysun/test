{
 "cells": [
  {
   "cell_type": "code",
   "execution_count": 3,
   "id": "33553247",
   "metadata": {
    "scrolled": true
   },
   "outputs": [
    {
     "name": "stdout",
     "output_type": "stream",
     "text": [
      "Чтобы повторить введите \"Да\",для выхода введите \"Нет\",если хотите съесть печеньку, введите \"Печенька\"ор\n",
      "Вышли из цикла\n"
     ]
    }
   ],
   "source": [
    "flag = True\n",
    "while (flag):\n",
    "    repeat = input('Чтобы повторить введите \"Да\",'+\n",
    "                   'для выхода введите \"Нет\",'+\n",
    "                  'если хотите съесть печеньку, введите \"Печенька\"')\n",
    "    if repeat == 'Да':\n",
    "        print('Цикл повторяется')\n",
    "    elif repeat == 'Печенька':\n",
    "        print('Съели печеньку')\n",
    "    else:\n",
    "        flag = False\n",
    "        print('Вышли из цикла')\n",
    "        "
   ]
  },
  {
   "cell_type": "code",
   "execution_count": null,
   "id": "60b1e1c8",
   "metadata": {},
   "outputs": [],
   "source": []
  },
  {
   "cell_type": "code",
   "execution_count": null,
   "id": "fa109cc0",
   "metadata": {},
   "outputs": [],
   "source": []
  },
  {
   "cell_type": "code",
   "execution_count": null,
   "id": "040d22e5",
   "metadata": {},
   "outputs": [],
   "source": []
  },
  {
   "cell_type": "code",
   "execution_count": null,
   "id": "62c67d2e",
   "metadata": {},
   "outputs": [],
   "source": []
  },
  {
   "cell_type": "code",
   "execution_count": null,
   "id": "9bfddb5b",
   "metadata": {},
   "outputs": [],
   "source": []
  },
  {
   "cell_type": "code",
   "execution_count": null,
   "id": "8fd44fb4",
   "metadata": {},
   "outputs": [],
   "source": []
  }
 ],
 "metadata": {
  "kernelspec": {
   "display_name": "Python 3",
   "language": "python",
   "name": "python3"
  },
  "language_info": {
   "codemirror_mode": {
    "name": "ipython",
    "version": 3
   },
   "file_extension": ".py",
   "mimetype": "text/x-python",
   "name": "python",
   "nbconvert_exporter": "python",
   "pygments_lexer": "ipython3",
   "version": "3.8.8"
  }
 },
 "nbformat": 4,
 "nbformat_minor": 5
}
